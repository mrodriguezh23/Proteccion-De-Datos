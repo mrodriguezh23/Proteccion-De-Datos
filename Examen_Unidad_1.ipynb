{
  "nbformat": 4,
  "nbformat_minor": 0,
  "metadata": {
    "colab": {
      "provenance": [],
      "authorship_tag": "ABX9TyN54A2keA62JDbYPJOX2lEw",
      "include_colab_link": true
    },
    "kernelspec": {
      "name": "python3",
      "display_name": "Python 3"
    },
    "language_info": {
      "name": "python"
    }
  },
  "cells": [
    {
      "cell_type": "markdown",
      "metadata": {
        "id": "view-in-github",
        "colab_type": "text"
      },
      "source": [
        "<a href=\"https://colab.research.google.com/github/mrodriguezh23/Proteccion-De-Datos/blob/main/Examen_Unidad_1.ipynb\" target=\"_parent\"><img src=\"https://colab.research.google.com/assets/colab-badge.svg\" alt=\"Open In Colab\"/></a>"
      ]
    },
    {
      "cell_type": "markdown",
      "source": [
        "Miriam Rodríguez Hernández\n",
        "\n",
        "Examen Unidad 1"
      ],
      "metadata": {
        "id": "6pPj-vWcp8J-"
      }
    },
    {
      "cell_type": "markdown",
      "source": [
        "Exercise 1: Número primo\n",
        "\n",
        "Escribe una función que determina si el número dado es primo o no, dando como resultado True si es primo y Falso en caso de que no sea primo.\n",
        "\n",
        "Escribe un programa que lea el entero de un usuario y muestre en pantalla un mensaje indicando si el número dado es primo o no."
      ],
      "metadata": {
        "id": "OeMikeigqAuG"
      }
    },
    {
      "cell_type": "code",
      "source": [
        "def numero_primo(numero):\n",
        "    if numero <= 1:\n",
        "        return False\n",
        "    if numero == 2:\n",
        "        return True\n",
        "    if numero % 2 == 0:\n",
        "        return False\n",
        "    for i in range(3, int(numero**0.5) + 1, 2):\n",
        "        if numero % i == 0:\n",
        "            return False\n",
        "    return True\n",
        "\n",
        "if __name__ == \"__main__\":\n",
        "    try:\n",
        "        input = int(input(\"Inserta entero: \"))\n",
        "        if numero_primo(input):\n",
        "           print(f\"{input} es número primo\")\n",
        "        else:\n",
        "            print(f\"{input} no es número primo\")\n",
        "    except ValueError:\n",
        "     print(\"Entero inválido. Intentalo de nuevo.\")"
      ],
      "metadata": {
        "colab": {
          "base_uri": "https://localhost:8080/",
          "height": 245
        },
        "id": "2-7YNotbp8Wk",
        "outputId": "4a30c8be-eac7-4bfe-85db-a96981fd236f"
      },
      "execution_count": 32,
      "outputs": [
        {
          "output_type": "error",
          "ename": "TypeError",
          "evalue": "ignored",
          "traceback": [
            "\u001b[0;31m---------------------------------------------------------------------------\u001b[0m",
            "\u001b[0;31mTypeError\u001b[0m                                 Traceback (most recent call last)",
            "\u001b[0;32m<ipython-input-32-f27295a8582d>\u001b[0m in \u001b[0;36m<cell line: 13>\u001b[0;34m()\u001b[0m\n\u001b[1;32m     13\u001b[0m \u001b[0;32mif\u001b[0m \u001b[0m__name__\u001b[0m \u001b[0;34m==\u001b[0m \u001b[0;34m\"__main__\"\u001b[0m\u001b[0;34m:\u001b[0m\u001b[0;34m\u001b[0m\u001b[0;34m\u001b[0m\u001b[0m\n\u001b[1;32m     14\u001b[0m     \u001b[0;32mtry\u001b[0m\u001b[0;34m:\u001b[0m\u001b[0;34m\u001b[0m\u001b[0;34m\u001b[0m\u001b[0m\n\u001b[0;32m---> 15\u001b[0;31m         \u001b[0minput\u001b[0m \u001b[0;34m=\u001b[0m \u001b[0mint\u001b[0m\u001b[0;34m(\u001b[0m\u001b[0minput\u001b[0m\u001b[0;34m(\u001b[0m\u001b[0;34m\"Inserta entero: \"\u001b[0m\u001b[0;34m)\u001b[0m\u001b[0;34m)\u001b[0m\u001b[0;34m\u001b[0m\u001b[0;34m\u001b[0m\u001b[0m\n\u001b[0m\u001b[1;32m     16\u001b[0m         \u001b[0;32mif\u001b[0m \u001b[0mnumero_primo\u001b[0m\u001b[0;34m(\u001b[0m\u001b[0minput\u001b[0m\u001b[0;34m)\u001b[0m\u001b[0;34m:\u001b[0m\u001b[0;34m\u001b[0m\u001b[0;34m\u001b[0m\u001b[0m\n\u001b[1;32m     17\u001b[0m            \u001b[0mprint\u001b[0m\u001b[0;34m(\u001b[0m\u001b[0;34mf\"{input} es número primo\"\u001b[0m\u001b[0;34m)\u001b[0m\u001b[0;34m\u001b[0m\u001b[0;34m\u001b[0m\u001b[0m\n",
            "\u001b[0;31mTypeError\u001b[0m: 'int' object is not callable"
          ]
        }
      ]
    },
    {
      "cell_type": "markdown",
      "source": [
        "Exercise 2: Siguiente primo\n",
        "\n",
        "Crear una función llamada siguientePrimo que encuentre y regrese el primer numero primo más grande que algún entero, n. El valor de n será el único parámetro de la función.\n",
        "\n",
        "Incluye un programa principal que lea el entero del usuario y muestre en pantalla el primer número primo más grande que el número introducido.\n",
        "\n",
        "Importe la solución del primer ejercicio \"Número primo\"."
      ],
      "metadata": {
        "id": "Q7fqc4r9roL0"
      }
    },
    {
      "cell_type": "code",
      "source": [
        "def siguiente_primo(n):\n",
        "    if n < 2:\n",
        "        n = 2\n",
        "    else:\n",
        "        n += 1\n",
        "\n",
        "    while True:\n",
        "        if numero_primo(n):\n",
        "            return n\n",
        "        n += 1\n",
        "\n",
        "if __name__ == \"__main__\":\n",
        "    try:\n",
        "        input = int(input(\"Enter an integer: \"))\n",
        "        siguientePrimo = siguiente_primo(input)\n",
        "        print(f\"El siguiente número primo más grande que {input} es {siguientePrimo}.\")\n",
        "    except ValueError:\n",
        "        print(\"Entero inválido. Inténtelo de nuevo\")"
      ],
      "metadata": {
        "colab": {
          "base_uri": "https://localhost:8080/",
          "height": 245
        },
        "id": "yDVZ2qKQ4An4",
        "outputId": "04314d79-56dc-4979-f2b4-ba35f966c4ea"
      },
      "execution_count": 33,
      "outputs": [
        {
          "output_type": "error",
          "ename": "TypeError",
          "evalue": "ignored",
          "traceback": [
            "\u001b[0;31m---------------------------------------------------------------------------\u001b[0m",
            "\u001b[0;31mTypeError\u001b[0m                                 Traceback (most recent call last)",
            "\u001b[0;32m<ipython-input-33-f61620a473e0>\u001b[0m in \u001b[0;36m<cell line: 12>\u001b[0;34m()\u001b[0m\n\u001b[1;32m     12\u001b[0m \u001b[0;32mif\u001b[0m \u001b[0m__name__\u001b[0m \u001b[0;34m==\u001b[0m \u001b[0;34m\"__main__\"\u001b[0m\u001b[0;34m:\u001b[0m\u001b[0;34m\u001b[0m\u001b[0;34m\u001b[0m\u001b[0m\n\u001b[1;32m     13\u001b[0m     \u001b[0;32mtry\u001b[0m\u001b[0;34m:\u001b[0m\u001b[0;34m\u001b[0m\u001b[0;34m\u001b[0m\u001b[0m\n\u001b[0;32m---> 14\u001b[0;31m         \u001b[0minput\u001b[0m \u001b[0;34m=\u001b[0m \u001b[0mint\u001b[0m\u001b[0;34m(\u001b[0m\u001b[0minput\u001b[0m\u001b[0;34m(\u001b[0m\u001b[0;34m\"Enter an integer: \"\u001b[0m\u001b[0;34m)\u001b[0m\u001b[0;34m)\u001b[0m\u001b[0;34m\u001b[0m\u001b[0;34m\u001b[0m\u001b[0m\n\u001b[0m\u001b[1;32m     15\u001b[0m         \u001b[0msiguientePrimo\u001b[0m \u001b[0;34m=\u001b[0m \u001b[0msiguiente_primo\u001b[0m\u001b[0;34m(\u001b[0m\u001b[0minput\u001b[0m\u001b[0;34m)\u001b[0m\u001b[0;34m\u001b[0m\u001b[0;34m\u001b[0m\u001b[0m\n\u001b[1;32m     16\u001b[0m         \u001b[0mprint\u001b[0m\u001b[0;34m(\u001b[0m\u001b[0;34mf\"El siguiente número primo más grande que {input} es {siguientePrimo}.\"\u001b[0m\u001b[0;34m)\u001b[0m\u001b[0;34m\u001b[0m\u001b[0;34m\u001b[0m\u001b[0m\n",
            "\u001b[0;31mTypeError\u001b[0m: 'int' object is not callable"
          ]
        }
      ]
    },
    {
      "cell_type": "markdown",
      "source": [
        "Exercise 3: Mediana de tres números\n",
        "\n",
        "Escribe una función que tome tres números como parámetros y regrese la mediana de esos tres valores como resultado.\n",
        "\n",
        "Incluye un programa que lea los tres número del usuario y muestre en pantalla la mediana."
      ],
      "metadata": {
        "id": "O5acQIsX4xm8"
      }
    },
    {
      "cell_type": "code",
      "source": [
        "def mediana_de_tres(num1, num2, num3):\n",
        "    ordenAscendente = sorted([num1, num2, num3])\n",
        "\n",
        "    mediana = sorted_nums[1]\n",
        "\n",
        "    return median\n",
        "\n",
        "if __name__ == \"__main__\":\n",
        "    try:\n",
        "        num1 = float(input(\"Inserta primer número: \"))\n",
        "        num2 = float(input(\"Inserta segundo número: \"))\n",
        "        num3 = float(input(\"Inserta tercer número: \"))\n",
        "\n",
        "        mediana = mediana_de_tres(num1, num2, num3)\n",
        "\n",
        "        print(f\"La mediana de {num1}, {num2}, y {num3} es {mediana}.\")\n",
        "    except ValueError:\n",
        "        print(\"Input inválido. Inténtelo de nuevo\")"
      ],
      "metadata": {
        "colab": {
          "base_uri": "https://localhost:8080/",
          "height": 245
        },
        "id": "pjG2tNm13U_8",
        "outputId": "a2bafa9f-9d1f-45bb-b6e5-f4b0f5d6baad"
      },
      "execution_count": 34,
      "outputs": [
        {
          "output_type": "error",
          "ename": "TypeError",
          "evalue": "ignored",
          "traceback": [
            "\u001b[0;31m---------------------------------------------------------------------------\u001b[0m",
            "\u001b[0;31mTypeError\u001b[0m                                 Traceback (most recent call last)",
            "\u001b[0;32m<ipython-input-34-9dbbb341a225>\u001b[0m in \u001b[0;36m<cell line: 8>\u001b[0;34m()\u001b[0m\n\u001b[1;32m      8\u001b[0m \u001b[0;32mif\u001b[0m \u001b[0m__name__\u001b[0m \u001b[0;34m==\u001b[0m \u001b[0;34m\"__main__\"\u001b[0m\u001b[0;34m:\u001b[0m\u001b[0;34m\u001b[0m\u001b[0;34m\u001b[0m\u001b[0m\n\u001b[1;32m      9\u001b[0m     \u001b[0;32mtry\u001b[0m\u001b[0;34m:\u001b[0m\u001b[0;34m\u001b[0m\u001b[0;34m\u001b[0m\u001b[0m\n\u001b[0;32m---> 10\u001b[0;31m         \u001b[0mnum1\u001b[0m \u001b[0;34m=\u001b[0m \u001b[0mfloat\u001b[0m\u001b[0;34m(\u001b[0m\u001b[0minput\u001b[0m\u001b[0;34m(\u001b[0m\u001b[0;34m\"Inserta primer número: \"\u001b[0m\u001b[0;34m)\u001b[0m\u001b[0;34m)\u001b[0m\u001b[0;34m\u001b[0m\u001b[0;34m\u001b[0m\u001b[0m\n\u001b[0m\u001b[1;32m     11\u001b[0m         \u001b[0mnum2\u001b[0m \u001b[0;34m=\u001b[0m \u001b[0mfloat\u001b[0m\u001b[0;34m(\u001b[0m\u001b[0minput\u001b[0m\u001b[0;34m(\u001b[0m\u001b[0;34m\"Inserta segundo número: \"\u001b[0m\u001b[0;34m)\u001b[0m\u001b[0;34m)\u001b[0m\u001b[0;34m\u001b[0m\u001b[0;34m\u001b[0m\u001b[0m\n\u001b[1;32m     12\u001b[0m         \u001b[0mnum3\u001b[0m \u001b[0;34m=\u001b[0m \u001b[0mfloat\u001b[0m\u001b[0;34m(\u001b[0m\u001b[0minput\u001b[0m\u001b[0;34m(\u001b[0m\u001b[0;34m\"Inserta tercer número: \"\u001b[0m\u001b[0;34m)\u001b[0m\u001b[0;34m)\u001b[0m\u001b[0;34m\u001b[0m\u001b[0;34m\u001b[0m\u001b[0m\n",
            "\u001b[0;31mTypeError\u001b[0m: 'int' object is not callable"
          ]
        }
      ]
    },
    {
      "cell_type": "markdown",
      "source": [
        "Exercise 4: Contraseña aleatoria\n",
        "\n",
        "Escribe una función que genere una contraseña aleatoria.\n",
        "\n",
        "La contraseña debe tener una longitudAleatoria entre 7 y 10 caracteres. Cada caracter tiene que seleccionarse aleatoriamente de 33 a 126 en la tabla ASCII.\n",
        "\n",
        "La función no tomará parámetros. Sólo regresará la contraseña aleatoria como único resultado. Muestre enel archivo la contraseña generada.\n",
        "\n",
        "Tu programa principal tiene que correr solo cuando tu solucion no haya sido importada en otro archivo.\n"
      ],
      "metadata": {
        "id": "KI86PY-56OG6"
      }
    },
    {
      "cell_type": "code",
      "source": [
        "import random\n",
        "import string\n",
        "\n",
        "\n",
        "def genera_contrasena_aleatoria():\n",
        "    longitud_contrasena = random.randint(7, 10)\n",
        "    contrasena = ''.join(random.choice(string.printable[33:127]) for _ in range(longitud_contrasena))\n",
        "    return contrasena\n",
        "\n",
        "if __name__ == \"__main__\":\n",
        "    contrasena_aleatoria = genera_contrasena_aleatoria()\n",
        "    print(f\"Contraseña aleatoria generada: {contrasena_aleatoria}\")"
      ],
      "metadata": {
        "colab": {
          "base_uri": "https://localhost:8080/"
        },
        "id": "tgEaPen96OO5",
        "outputId": "cec8194a-e800-4480-b340-4ce4ab319965"
      },
      "execution_count": 35,
      "outputs": [
        {
          "output_type": "stream",
          "name": "stdout",
          "text": [
            "Contraseña aleatoria generada: F-\fC]QT\n"
          ]
        }
      ]
    },
    {
      "cell_type": "markdown",
      "source": [
        "Exercise 5: Hipotenusa\n",
        "\n",
        "Escribe una función que tome la longitud de dos lados más pequeños de un un triángulo recto como sus parametros.\n",
        "\n",
        "Regresa la hipotenusa usando el teorema de pitágoras como resultado de una función.\n",
        "\n",
        "Incluye un programa principal lea las longitudes más cortas del usuario, usa la función para computar la longitud de la hipotenusa y muestra el resultado en pantalla."
      ],
      "metadata": {
        "id": "FUAfl4KA76HC"
      }
    },
    {
      "cell_type": "code",
      "source": [
        "import math\n",
        "\n",
        "def calcula_hipotenusa(lado1, lado2):\n",
        "    hipotenusa = math.sqrt(lado1**2 + lado2**2)\n",
        "    return hipotenusa\n",
        "\n",
        "if __name__ == \"__main__\":\n",
        "    try:\n",
        "        lado1 = float(input(\"Inserta lado 1: \"))\n",
        "        lado2 = float(input(\"Inserta lado 2: \"))\n",
        "\n",
        "        if lado1 <= 0 or lado2 <= 0:\n",
        "            print(\"Invalido\")\n",
        "        else:\n",
        "            hipotenusa = calcula_hipotenusa(lado1, lado2)\n",
        "            print(f\"La longitud de la hipotenusa es: {hipotenusa:}\")\n",
        "    except ValueError:\n",
        "        print(\"Invalido\")"
      ],
      "metadata": {
        "colab": {
          "base_uri": "https://localhost:8080/",
          "height": 245
        },
        "id": "9zeDMzFs76OJ",
        "outputId": "8ab24055-3e18-415b-9f86-ddfbbe8c79d6"
      },
      "execution_count": 37,
      "outputs": [
        {
          "output_type": "error",
          "ename": "TypeError",
          "evalue": "ignored",
          "traceback": [
            "\u001b[0;31m---------------------------------------------------------------------------\u001b[0m",
            "\u001b[0;31mTypeError\u001b[0m                                 Traceback (most recent call last)",
            "\u001b[0;32m<ipython-input-37-c1cdc9ae3c6d>\u001b[0m in \u001b[0;36m<cell line: 7>\u001b[0;34m()\u001b[0m\n\u001b[1;32m      7\u001b[0m \u001b[0;32mif\u001b[0m \u001b[0m__name__\u001b[0m \u001b[0;34m==\u001b[0m \u001b[0;34m\"__main__\"\u001b[0m\u001b[0;34m:\u001b[0m\u001b[0;34m\u001b[0m\u001b[0;34m\u001b[0m\u001b[0m\n\u001b[1;32m      8\u001b[0m     \u001b[0;32mtry\u001b[0m\u001b[0;34m:\u001b[0m\u001b[0;34m\u001b[0m\u001b[0;34m\u001b[0m\u001b[0m\n\u001b[0;32m----> 9\u001b[0;31m         \u001b[0mlado1\u001b[0m \u001b[0;34m=\u001b[0m \u001b[0mfloat\u001b[0m\u001b[0;34m(\u001b[0m\u001b[0minput\u001b[0m\u001b[0;34m(\u001b[0m\u001b[0;34m\"Inserta lado 1: \"\u001b[0m\u001b[0;34m)\u001b[0m\u001b[0;34m)\u001b[0m\u001b[0;34m\u001b[0m\u001b[0;34m\u001b[0m\u001b[0m\n\u001b[0m\u001b[1;32m     10\u001b[0m         \u001b[0mlado2\u001b[0m \u001b[0;34m=\u001b[0m \u001b[0mfloat\u001b[0m\u001b[0;34m(\u001b[0m\u001b[0minput\u001b[0m\u001b[0;34m(\u001b[0m\u001b[0;34m\"Inserta lado 2: \"\u001b[0m\u001b[0;34m)\u001b[0m\u001b[0;34m)\u001b[0m\u001b[0;34m\u001b[0m\u001b[0;34m\u001b[0m\u001b[0m\n\u001b[1;32m     11\u001b[0m \u001b[0;34m\u001b[0m\u001b[0m\n",
            "\u001b[0;31mTypeError\u001b[0m: 'int' object is not callable"
          ]
        }
      ]
    }
  ]
}
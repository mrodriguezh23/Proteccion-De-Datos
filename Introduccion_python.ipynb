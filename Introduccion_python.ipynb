{
  "nbformat": 4,
  "nbformat_minor": 0,
  "metadata": {
    "colab": {
      "provenance": [],
      "authorship_tag": "ABX9TyOInUQ0nlydZO766I1aBbq9",
      "include_colab_link": true
    },
    "kernelspec": {
      "name": "python3",
      "display_name": "Python 3"
    },
    "language_info": {
      "name": "python"
    }
  },
  "cells": [
    {
      "cell_type": "markdown",
      "metadata": {
        "id": "view-in-github",
        "colab_type": "text"
      },
      "source": [
        "<a href=\"https://colab.research.google.com/github/mrodriguezh23/Proteccion-De-Datos/blob/main/Introduccion_python.ipynb\" target=\"_parent\"><img src=\"https://colab.research.google.com/assets/colab-badge.svg\" alt=\"Open In Colab\"/></a>"
      ]
    },
    {
      "cell_type": "markdown",
      "source": [
        "Miriam Rodríguez Hernández\n",
        "\n",
        "Protección de Datos\n",
        "\n",
        "Introducción a Python"
      ],
      "metadata": {
        "id": "_hcfXiAIGMuw"
      }
    },
    {
      "cell_type": "markdown",
      "source": [
        "# **SCOPES**\n",
        "\"A scope is a textual region of a Python program, where a namespace is directly\n",
        "accessible.\"\n",
        "\n",
        "\n",
        "*   The local scope, which is the innermost one and contains the local names.\n",
        "*   The enclosing scope; that is, the scope of any enclosing function. It contains non-local names and also non-global names.\n",
        "*   The global scope contains the global names.\n",
        "*   The built-in scope contains the built-in names"
      ],
      "metadata": {
        "id": "nzFpkAicZXVu"
      }
    },
    {
      "cell_type": "code",
      "source": [
        "# Local, Enclosing and Global\n",
        "def enclosing_func():\n",
        "  m = 13\n",
        "\n",
        "  def local():\n",
        "      # m doesn't belong to the scope defined by the local\n",
        "      # function so Python will keep looking into the next\n",
        "      # enclosing scope. This time m is found in the enclosing\n",
        "      # scope\n",
        "      print(m, 'printing from the local scope')\n",
        "\n",
        "  # calling the function local\n",
        "  local()\n",
        "\n",
        "m = 5\n",
        "print(m, 'printing from the global scope')\n",
        "enclosing_func()"
      ],
      "metadata": {
        "colab": {
          "base_uri": "https://localhost:8080/"
        },
        "id": "MqNNH4G3ZzXv",
        "outputId": "7df80305-bc8a-46dc-8dfd-56710b3551df"
      },
      "execution_count": null,
      "outputs": [
        {
          "output_type": "stream",
          "name": "stdout",
          "text": [
            "5 printing from the global scope\n",
            "13 printing from the local scope\n"
          ]
        }
      ]
    },
    {
      "cell_type": "markdown",
      "source": [
        "# **Objetos y clases**\n",
        "\n",
        "Todo en Python es un objeto: números, cadenas de caracteres, contenedores, colecciones e incluso funciones.\n",
        "\n",
        "Son como cajas con al menos tres características:\n",
        "\n",
        "*   un identificador único\n",
        "*   Un tipo\n",
        "*   Un valor\n",
        "¿Cómo se crean los objetos?\n",
        "Con clases\n",
        "\n",
        "El siguiente código es una clase que define una bicicleta y crea dos bicicletas, una roja y otra azul."
      ],
      "metadata": {
        "id": "9wBmjGG7bDMI"
      }
    },
    {
      "cell_type": "code",
      "source": [
        "# definición de la clase bicicleta\n",
        "class Bike:\n",
        "\n",
        "  def __init__(self, colour, frame_material):\n",
        "      self.colour = colour\n",
        "      self.frame_material = frame_material\n",
        "\n",
        "# creamos bicicletas, roja y azul\n",
        "red_bike = Bike('Red', 'Carbon fiber')\n",
        "blue_bike = Bike('Blue', 'Steel')\n",
        "\n",
        "# revisamos los objetos que son ejemplos de la clase bicicleta\n",
        "print(red_bike.colour) # imrpime: Red\n",
        "print(red_bike.frame_material) # imrpime: Carbon fiber\n",
        "print(blue_bike.colour) # imrpime: Blue\n",
        "print(blue_bike.frame_material) # imrpime: Steel"
      ],
      "metadata": {
        "colab": {
          "base_uri": "https://localhost:8080/"
        },
        "id": "YwPj7Y5mcgJd",
        "outputId": "1ebdc914-be97-4ceb-e403-d2ac010522f2"
      },
      "execution_count": 1,
      "outputs": [
        {
          "output_type": "stream",
          "name": "stdout",
          "text": [
            "Red\n",
            "Carbon fiber\n",
            "Blue\n",
            "Steel\n"
          ]
        }
      ]
    },
    {
      "cell_type": "markdown",
      "source": [
        "Definimos la clase con la expresión class y el código siguiente es el cuerpo de esta.\n",
        "\n",
        "\n",
        "El cuerpo de la clase contiene la definción de un método que es una función que pertenece a una clase.\n",
        "\n",
        "El método __init__ es un inicializador que crea los objetos con los valores que les asiganaremos.\n",
        "\n",
        "Después creamos las dos bicicletas: una es color roja hecha de fibra de carbono, mientras que la otra es azul hecha de hierro. Se les asignaron los valores cuando se crearon."
      ],
      "metadata": {
        "id": "jkhDv3Ikdq-6"
      }
    },
    {
      "cell_type": "markdown",
      "source": [
        "# **Números enteros**\n",
        "\n",
        "Pueden ser positivos, negativos o 0 (cero).\n",
        "\n",
        "Ejemplos de operaciones matemáticas básicas."
      ],
      "metadata": {
        "id": "46KO_gnqgzre"
      }
    },
    {
      "cell_type": "code",
      "source": [
        "a = 14\n",
        "b = 3\n",
        "\n",
        "print(\"suma\", a + b) # suma\n",
        "\n",
        "print(\"resta\", a - b) # resta\n",
        "\n",
        "print(\"multiplicacion\", a * b) # multiplicacion\n",
        "\n",
        "print(\"division real\", a / b) # division real\n",
        "\n",
        "print(\"division entera\", a // b) # division entera\n",
        "\n",
        "print(\"residuo de la division\", a % b) # residuo de la division\n",
        "\n",
        "print(\"potencia\", a ** b) # potencia\n",
        "\n",
        "print(\"potencia\", pow(a, b))  # potencia"
      ],
      "metadata": {
        "colab": {
          "base_uri": "https://localhost:8080/"
        },
        "id": "LzwiV0G5kdIy",
        "outputId": "57fd7105-6540-49e3-9620-f37b2efcec17"
      },
      "execution_count": 2,
      "outputs": [
        {
          "output_type": "stream",
          "name": "stdout",
          "text": [
            "suma 17\n",
            "resta 11\n",
            "multiplicacion 42\n",
            "division real 4.666666666666667\n",
            "division entera 4\n",
            "residuo de la division 2\n",
            "potencia 2744\n",
            "potencia 2744\n"
          ]
        }
      ]
    },
    {
      "cell_type": "markdown",
      "source": [
        "# **Booleanos**\n",
        "\n",
        "\n",
        "True y False son representados respectivamente como 1 y 0."
      ],
      "metadata": {
        "id": "YL4ktKvio6AD"
      }
    },
    {
      "cell_type": "code",
      "source": [
        "print(\"True\", int(True)) # True es 1\n",
        "\n",
        "print(\"False\", int(False)) # False es 0\n",
        "\n",
        "print(\"1\", bool(1)) # 1 se evalua como True en el contexto Booleano\n",
        "\n",
        "print(\"-42\", bool(-42)) # cualquier número diferente de cero se comporta como True\n",
        "\n",
        "print(\"0\", bool(0)) # 0 se evalua como False\n",
        "\n",
        "\n",
        "# operadores (and, or, not)\n",
        "\n",
        "print(\"not True\", not True)\n",
        "\n",
        "print(\"not False\", not False)\n",
        "\n",
        "print(\"True and True\", True and True)\n",
        "\n",
        "print(\"False or True\", False or True)\n",
        "\n",
        "print(\"1 + True\", 1 + True)\n",
        "\n",
        "print(\"False + 42\", False + 42)\n",
        "\n",
        "print(\"7 - True\", 7 - True)"
      ],
      "metadata": {
        "colab": {
          "base_uri": "https://localhost:8080/"
        },
        "id": "L5vn7mXoqEBf",
        "outputId": "5aabe576-c9ac-4af3-9840-01893b18e81c"
      },
      "execution_count": null,
      "outputs": [
        {
          "output_type": "stream",
          "name": "stdout",
          "text": [
            "True 1\n",
            "False 0\n",
            "1 True\n",
            "-42 True\n",
            "0 False\n",
            "not True False\n",
            "not False True\n",
            "True and True True\n",
            "False or True True\n",
            "1 + True 2\n",
            "False + 42 42\n",
            "7 - True 6\n"
          ]
        }
      ]
    },
    {
      "cell_type": "markdown",
      "source": [
        "## Real numbers\n",
        "or **floating point numbers**, are represented in Python according to the\n",
        "IEEE 754 double-precision binary floating point format, which is stored in 64 bits of information\n",
        "\n",
        "\n",
        "Double precision numbers suffer from\n",
        "approximation issues even when it comes to simple numbers like 0.1 or 0.3. Why\n",
        "is this important? It can be a big problem if you are handling prices, or financial\n",
        "calculations, or any kind of data that need not to be approximated. Don't worry,\n",
        "Python gives you the Decimal type, which doesn't suffer from these issue."
      ],
      "metadata": {
        "id": "E_LUbhWjsARN"
      }
    },
    {
      "cell_type": "code",
      "source": [
        "pi = 3.1415926536 # how many digits of PI can you remember?\n",
        "radius = 4.5\n",
        "area = pi * (radius ** 2)\n",
        "print(area)\n",
        "\n",
        "#Problemas de aproximacion\n",
        ".3 - 0.1 * 3 # esto deberia ser 0!!!"
      ],
      "metadata": {
        "colab": {
          "base_uri": "https://localhost:8080/"
        },
        "id": "RunaKZvttESb",
        "outputId": "ce7e3210-2d22-4bcc-f062-20ebca7c8167"
      },
      "execution_count": null,
      "outputs": [
        {
          "output_type": "stream",
          "name": "stdout",
          "text": [
            "63.617251235400005\n"
          ]
        },
        {
          "output_type": "execute_result",
          "data": {
            "text/plain": [
              "-5.551115123125783e-17"
            ]
          },
          "metadata": {},
          "execution_count": 12
        }
      ]
    },
    {
      "cell_type": "markdown",
      "source": [
        "## Complex numbers\n",
        "for scientific coding"
      ],
      "metadata": {
        "id": "BK3AL7souFob"
      }
    },
    {
      "cell_type": "code",
      "source": [
        "c = 3.14 + 2.73j\n",
        "c = complex(3.14, 2.73) # same as above\n",
        "\n",
        "c.real # real part\n",
        "3.14\n",
        "c.imag # imaginary part\n",
        "2.73\n",
        "\n",
        "c.conjugate() # conjugate of A + Bj is A - Bj\n",
        "(3.14-2.73j)\n",
        "\n",
        "c * 2 # multiplication is allowed\n",
        "(6.28+5.46j)\n",
        "\n",
        "c ** 2 # power operation as well\n",
        "(2.4067000000000007+17.1444j)\n",
        "\n",
        "d = 1 + 1j # addition and subtraction as well\n",
        "c - d\n",
        "(2.14+1.73j)"
      ],
      "metadata": {
        "colab": {
          "base_uri": "https://localhost:8080/"
        },
        "id": "y54jNVnSuFw4",
        "outputId": "89c6bb5c-d025-4b73-9688-c79c76ca6208"
      },
      "execution_count": null,
      "outputs": [
        {
          "output_type": "execute_result",
          "data": {
            "text/plain": [
              "(2.14+1.73j)"
            ]
          },
          "metadata": {},
          "execution_count": 16
        }
      ]
    },
    {
      "cell_type": "markdown",
      "source": [
        "## Fractions\n"
      ],
      "metadata": {
        "id": "iPZ19c4Qudw2"
      }
    },
    {
      "cell_type": "code",
      "source": [
        "from fractions import Fraction\n",
        "\n",
        "print(\"simplified\", Fraction(10, 6)) # mad hatter?\n",
        "\n",
        "print(\"suma de fracciones\", Fraction(1, 3) + Fraction(2, 3)) # 1/3 + 2/3 == 3/3 == 1/1\n",
        "\n",
        "f = Fraction(10, 6)\n",
        "print(\"numerador\", f.numerator)\n",
        "print(\"denominador\", f.denominator)\n",
        "\n",
        "f.as_integer_ratio() #it allows you to use it without needing to worry about what type of number is being worked with"
      ],
      "metadata": {
        "colab": {
          "base_uri": "https://localhost:8080/"
        },
        "id": "hRCY3MZXumCB",
        "outputId": "d24461d8-2f2e-46a5-b7dd-71cb405afe3e"
      },
      "execution_count": null,
      "outputs": [
        {
          "output_type": "stream",
          "name": "stdout",
          "text": [
            "simplified 5/3\n",
            "suma de fracciones 1\n",
            "numerador 5\n",
            "denominador 3\n"
          ]
        },
        {
          "output_type": "execute_result",
          "data": {
            "text/plain": [
              "(5, 3)"
            ]
          },
          "metadata": {},
          "execution_count": 18
        }
      ]
    },
    {
      "cell_type": "markdown",
      "source": [
        "## Decimals"
      ],
      "metadata": {
        "id": "B-GVz5Vxu48w"
      }
    },
    {
      "cell_type": "code",
      "source": [
        "from decimal import Decimal as D # rename for brevity\n",
        "\n",
        "D(3.14) # pi, from float, so approximation issues"
      ],
      "metadata": {
        "colab": {
          "base_uri": "https://localhost:8080/"
        },
        "id": "gMsOXK53u9X9",
        "outputId": "3be9095c-5c82-42fd-c9b3-cbcebc26da89"
      },
      "execution_count": null,
      "outputs": [
        {
          "output_type": "execute_result",
          "data": {
            "text/plain": [
              "Decimal('3.140000000000000124344978758017532527446746826171875')"
            ]
          },
          "metadata": {},
          "execution_count": 25
        }
      ]
    },
    {
      "cell_type": "code",
      "source": [
        "D('3.14') # pi, from a string, so no approximation issues"
      ],
      "metadata": {
        "colab": {
          "base_uri": "https://localhost:8080/"
        },
        "id": "-nUH1MufxKW6",
        "outputId": "8fa7338f-5f3b-477d-8ac4-8078055193a1"
      },
      "execution_count": null,
      "outputs": [
        {
          "output_type": "execute_result",
          "data": {
            "text/plain": [
              "Decimal('3.14')"
            ]
          },
          "metadata": {},
          "execution_count": 26
        }
      ]
    },
    {
      "cell_type": "code",
      "source": [
        "D(0.1) * D(3) - D(0.3) # from float, we still have the issue"
      ],
      "metadata": {
        "colab": {
          "base_uri": "https://localhost:8080/"
        },
        "id": "USPzIs_KxNmj",
        "outputId": "fb41f62f-fb47-4800-b3df-ed11dc61458c"
      },
      "execution_count": null,
      "outputs": [
        {
          "output_type": "execute_result",
          "data": {
            "text/plain": [
              "Decimal('2.775557561565156540423631668E-17')"
            ]
          },
          "metadata": {},
          "execution_count": 27
        }
      ]
    },
    {
      "cell_type": "code",
      "source": [
        "D('0.1') * D(3) - D('0.3') # from string, all perfect"
      ],
      "metadata": {
        "colab": {
          "base_uri": "https://localhost:8080/"
        },
        "id": "Bokq_c1cxQF6",
        "outputId": "9cb68ddd-b3aa-4f8e-fdad-6564113fcfd5"
      },
      "execution_count": null,
      "outputs": [
        {
          "output_type": "execute_result",
          "data": {
            "text/plain": [
              "Decimal('0.0')"
            ]
          },
          "metadata": {},
          "execution_count": 28
        }
      ]
    },
    {
      "cell_type": "code",
      "source": [
        "D('1.4').as_integer_ratio() # 7/5 = 1.4 (isn't this cool?!)"
      ],
      "metadata": {
        "colab": {
          "base_uri": "https://localhost:8080/"
        },
        "id": "U1O2nqTUxRfk",
        "outputId": "29ad517e-a07f-40e0-c9f8-236a6cc251d5"
      },
      "execution_count": null,
      "outputs": [
        {
          "output_type": "execute_result",
          "data": {
            "text/plain": [
              "(7, 5)"
            ]
          },
          "metadata": {},
          "execution_count": 29
        }
      ]
    },
    {
      "cell_type": "markdown",
      "source": [
        "# Secuencias\n",
        "\n",
        "## Secuencias inmutables\n",
        "strings y tuples\n",
        "\n",
        "## Strings and bytes\n",
        "Textual data in Python is handled with str objects.\n",
        "\n",
        "Unicode is an excellent way to handle data. When it comes to storing textual data though, or sending it on the network. The result of an encoding produces a bytes object, whose syntax and behavior is similar to that of strings.\n",
        "\n",
        "String literals are written in Python using single, double, or triple quotes (both single or double). If built with triple quotes, a string can span multiple lines. An example will clarify this:"
      ],
      "metadata": {
        "id": "Q1jy5oDDxo9u"
      }
    },
    {
      "cell_type": "code",
      "source": [
        "# 4 ways to make a string\n",
        "\n",
        "str1 = 'This is a string. We built it with single quotes.'\n",
        "str2 = \"This is also a string, but built with double quotes.\"\n",
        "str3 = '''This is built using triple quotes,\n",
        "... so it can span multiple lines.'''\n",
        "\n",
        "str4 = \"\"\"This too\n",
        "... is a multiline one\n",
        "... built with triple double-quotes.\"\"\"\n",
        "\n",
        "str4 #A\n",
        "'This too\\nis a multiline one\\nbuilt with triple double-quotes.'\n",
        "\n",
        "print(str4) #B\n"
      ],
      "metadata": {
        "colab": {
          "base_uri": "https://localhost:8080/"
        },
        "id": "_mZzgtl01hO0",
        "outputId": "334c45a1-08df-4874-f351-2526f163bc63"
      },
      "execution_count": null,
      "outputs": [
        {
          "output_type": "stream",
          "name": "stdout",
          "text": [
            "This too\n",
            "... is a multiline one\n",
            "... built with triple double-quotes.\n"
          ]
        }
      ]
    },
    {
      "cell_type": "markdown",
      "source": [
        "Strings, like any sequence, have a length"
      ],
      "metadata": {
        "id": "0hSSFzAD24qN"
      }
    },
    {
      "cell_type": "code",
      "source": [
        " len(str1)"
      ],
      "metadata": {
        "colab": {
          "base_uri": "https://localhost:8080/"
        },
        "id": "VRQwujJC2-y9",
        "outputId": "8b36578d-6f0d-4f7d-8c7b-0ec4d8f5536a"
      },
      "execution_count": null,
      "outputs": [
        {
          "output_type": "execute_result",
          "data": {
            "text/plain": [
              "49"
            ]
          },
          "metadata": {},
          "execution_count": 31
        }
      ]
    },
    {
      "cell_type": "markdown",
      "source": [
        "prefixes and suffixes\n",
        "of strings"
      ],
      "metadata": {
        "id": "O4tDZv373B-v"
      }
    },
    {
      "cell_type": "code",
      "source": [
        "s = 'Hello There'\n",
        "\n",
        "print(s.removeprefix('Hell'))\n",
        "print(s.removesuffix('here'))\n",
        "print(s.removeprefix('Ooops'))"
      ],
      "metadata": {
        "colab": {
          "base_uri": "https://localhost:8080/"
        },
        "id": "zjM4dBh43FRE",
        "outputId": "fa6dbda2-9224-4206-b490-8a217fab19ab"
      },
      "execution_count": null,
      "outputs": [
        {
          "output_type": "stream",
          "name": "stdout",
          "text": [
            "o There\n",
            "Hello T\n",
            "Hello There\n"
          ]
        }
      ]
    },
    {
      "cell_type": "markdown",
      "source": [
        "# **Condicional if**\n",
        "\n",
        "Su función básica es evaluar una expresión y, basado en el resultado, qué parte del código ejecutar."
      ],
      "metadata": {
        "id": "gcqpRl-13oQ9"
      }
    },
    {
      "cell_type": "code",
      "source": [
        "late = True\n",
        "if late:\n",
        " print('I need to call my manager!')"
      ],
      "metadata": {
        "colab": {
          "base_uri": "https://localhost:8080/"
        },
        "id": "HJgeEIqRMy0k",
        "outputId": "131d431b-c007-4ec2-8855-f11e7804f111"
      },
      "execution_count": null,
      "outputs": [
        {
          "output_type": "stream",
          "name": "stdout",
          "text": [
            "I need to call my manager!\n"
          ]
        }
      ]
    },
    {
      "cell_type": "markdown",
      "source": [
        "La expresión condicional if se evalúa en un contexto booleano. Si el resultado de la evaluación es verdadero, se ejecuta el cuerpo del if.\n",
        "\n",
        "En este caso, late es True, por lo que se imprime el mensaje."
      ],
      "metadata": {
        "id": "kDkceIYkNnSC"
      }
    },
    {
      "cell_type": "markdown",
      "source": [
        "# **Condicional if else**"
      ],
      "metadata": {
        "id": "yl5iFbKDMzLL"
      }
    },
    {
      "cell_type": "code",
      "source": [
        "late = False\n",
        "if late:\n",
        " print('I need to call my manager!') #1\n",
        "else:\n",
        " print('no need to call my manager...') #2"
      ],
      "metadata": {
        "colab": {
          "base_uri": "https://localhost:8080/"
        },
        "id": "rAcjC4gDM1Fy",
        "outputId": "d05ce4d2-77fc-4b57-ed01-14182b226243"
      },
      "execution_count": null,
      "outputs": [
        {
          "output_type": "stream",
          "name": "stdout",
          "text": [
            "no need to call my manager...\n"
          ]
        }
      ]
    },
    {
      "cell_type": "markdown",
      "source": [
        "En este caso, late es False por lo que el resultado es diferente.\n",
        "\n",
        "\n",
        "En el primer bloque se ejecuta cuando late es True, mientras que el segundo se ejecuta cuando late es False."
      ],
      "metadata": {
        "id": "cpGtEm3YM4Pa"
      }
    },
    {
      "cell_type": "markdown",
      "source": [
        "# **else especial: elif**\n",
        "\n",
        "\n",
        "Este se utiliza cuando se tiene más de dos caminos que elegir.\n",
        "\n"
      ],
      "metadata": {
        "id": "wqZudiBFOItd"
      }
    },
    {
      "cell_type": "code",
      "source": [
        "income = 15000\n",
        "\n",
        "if income < 10000:\n",
        "  tax_coefficient = 0.0 #1\n",
        "elif income < 30000:\n",
        "  tax_coefficient = 0.2 #2\n",
        "elif income < 100000:\n",
        "  tax_coefficient = 0.35 #3\n",
        "else:\n",
        "  tax_coefficient = 0.45 #4\n",
        "\n",
        "print(f'You will pay: ${income * tax_coefficient} in taxes')"
      ],
      "metadata": {
        "colab": {
          "base_uri": "https://localhost:8080/"
        },
        "id": "hMuk_311M4xZ",
        "outputId": "b49d5f91-edf8-43cd-a553-c2b0220a07f6"
      },
      "execution_count": null,
      "outputs": [
        {
          "output_type": "stream",
          "name": "stdout",
          "text": [
            "You will pay: $3000.0 in taxes\n"
          ]
        }
      ]
    },
    {
      "cell_type": "markdown",
      "source": [
        "Si tu ingreso es menor que \\$10,000 no tienes que pagar impuestos. Si el ingreso está entre \\$10,000 y \\$30,000 pagas un 20% de impuestos. Si está entre \\$30,000 y \\$100,000 los impuestos son del 35% y si el ingreso es mayor que  \\$100,000, tienes que pagar 45% de impuestos.\n",
        "\n",
        "En este caso el ingreso es mayor que \\$10,000 pero menor que \\$30,000 por lo que se calcula un 20% de impuestos."
      ],
      "metadata": {
        "id": "SsB0GtPvO20o"
      }
    },
    {
      "cell_type": "markdown",
      "source": [
        "# **Ciclo For**\n",
        "\n",
        "El bucle for es usado para iterar una secuencia, como una lista o tupla, o bien una colección de objetos."
      ],
      "metadata": {
        "id": "vpZ89fqPM0l5"
      }
    },
    {
      "cell_type": "code",
      "source": [
        "people = ['Nick', 'Rick', 'Roger', 'Syd']\n",
        "ages = [23, 24, 23, 21]\n",
        "\n",
        "for person, age in zip(people, ages):\n",
        "    print(person, age)"
      ],
      "metadata": {
        "colab": {
          "base_uri": "https://localhost:8080/"
        },
        "id": "vBSJS6mRQF6b",
        "outputId": "229a20e6-d2de-4ac9-8e33-77cd9b4543bc"
      },
      "execution_count": null,
      "outputs": [
        {
          "output_type": "stream",
          "name": "stdout",
          "text": [
            "Nick 23\n",
            "Rick 24\n",
            "Roger 23\n",
            "Syd 21\n"
          ]
        }
      ]
    },
    {
      "cell_type": "markdown",
      "source": [
        "Tenemos una lista de personas y otra de números representando la edad de la persona de la primera lista. El ciclo for le pide a zip(secuenciaA, secuenciaB) los elementos respectivos de cada lista, en cada iteración va tomando el de la siguiente posición en cada una de las listas mientras que la función zip() las va uniendo en una misma lista que se imprimen con el comando print()."
      ],
      "metadata": {
        "id": "sDcSGaWoQWsS"
      }
    },
    {
      "cell_type": "markdown",
      "source": [
        "# **Ciclo While**\n",
        "\n",
        "El ciclor while es similar al bucle for en que ambos son ciclos y que en cada iteración ejecutan un cuerpo de instrucciones. La diferencia es que el ciclo while no cicla una secuencia, sino que cicla solo si una condición es satisfecha. Cuando la condición ya no es satisfecha, el ciclo termina."
      ],
      "metadata": {
        "id": "vFzT83caasYw"
      }
    },
    {
      "cell_type": "code",
      "source": [
        "n = 39\n",
        "remainders = []\n",
        "\n",
        "while n > 0:\n",
        "  remainder = n % 2 # residuo de la división entre 2\n",
        "  remainders.append(remainder) # agregamos el residuo a la lista de residuos\n",
        "  n //= 2 # se divide n entre 2\n",
        "\n",
        "remainders.reverse()\n",
        "print(remainders)"
      ],
      "metadata": {
        "colab": {
          "base_uri": "https://localhost:8080/"
        },
        "id": "F2OJS2SObQtM",
        "outputId": "0831b57f-67fc-4abf-8f31-d79ac983db47"
      },
      "execution_count": null,
      "outputs": [
        {
          "output_type": "stream",
          "name": "stdout",
          "text": [
            "[1, 0, 0, 1, 1, 1]\n"
          ]
        }
      ]
    },
    {
      "cell_type": "markdown",
      "source": [
        "Este código nos regresará la representación binaria de n, en este caso es 39.\n",
        "\n",
        "Creamos una lista de residuos para después guardar objetos.\n",
        "n > 0, es la condición que el ciclo while buscará satisafcer en cada iteración.\n",
        "Mientras n sea mayor a 0, sacaremos el residuo de la división n entre 2 y el resultado se lo atribuimos a la variable residuo que se agregará a la lista de residuos con la función append(). Dividimos n entre 2, si el resultado es mayor a 0, el ciclo continua; pero si n ha llegado a 0, el ciclo termina y volteamos la lista para obtener la representación binaria del valor de n."
      ],
      "metadata": {
        "id": "PYv-Ri9vbQ9S"
      }
    },
    {
      "cell_type": "markdown",
      "source": [
        "# **Continue**\n",
        "\n",
        "En un bucle, puedes saltar un sola iteración.\n",
        "\n",
        "Por ejemplo, cuando iteras en una lista de objetos y necesitas trabajar en cada una solo si una condición es verificada.\n"
      ],
      "metadata": {
        "id": "RoXos8ztfNs2"
      }
    },
    {
      "cell_type": "code",
      "source": [
        "from datetime import date, timedelta\n",
        "\n",
        "today = date.today()\n",
        "tomorrow = today + timedelta(days=1) # today + 1 day es tomorrow\n",
        "products = [\n",
        "    {'sku': '1', 'expiration_date': today, 'price': 100.0},\n",
        "    {'sku': '2', 'expiration_date': tomorrow, 'price': 50},\n",
        "    {'sku': '3', 'expiration_date': today, 'price': 20},\n",
        "]\n",
        "\n",
        "for product in products:\n",
        "    if product['expiration_date'] != today:\n",
        "        continue\n",
        "    product['price'] *= 0.8 # equivalente a aplicar 20% de descuento\n",
        "    print(\n",
        "          'Price for sku', product['sku'],\n",
        "          'is now', product['price'])"
      ],
      "metadata": {
        "colab": {
          "base_uri": "https://localhost:8080/"
        },
        "id": "hhBPxX6_fQZi",
        "outputId": "db46952c-62e9-4ec6-984c-43ff26217bbe"
      },
      "execution_count": 3,
      "outputs": [
        {
          "output_type": "stream",
          "name": "stdout",
          "text": [
            "Price for sku 1 is now 80.0\n",
            "Price for sku 3 is now 16.0\n"
          ]
        }
      ]
    },
    {
      "cell_type": "markdown",
      "source": [
        "Aplicamos 20% de descuento en todos los productos que expiran el día de hoy.\n",
        "\n",
        "Le decimos al ciclo que pare la ejecución y se vaya a la siguiente iteración, si es que hay.\n",
        "\n",
        "Importamos los objetos date y timedelta, después creamos los productos. Los productos 1 y 3 expiran el día de hoy, lo que siginifica que aplicamos el descuento. Iteramos cada producto y revisamos la fecha de expiración. Si no se caducan el día de hoy (!= today), no queremos ejecutar el código, así que continuamos (continue).\n"
      ],
      "metadata": {
        "id": "nzXwp0CFiBxn"
      }
    },
    {
      "cell_type": "markdown",
      "source": [
        "# **Break**\n",
        "En un bucle, puedes terminar el ciclo por completo.\n",
        "\n",
        "\n",
        "Cuando iteras una colección de objetos, encuentras el que necesitas y ya no quieres continuar con el ciclo, lo paras con break."
      ],
      "metadata": {
        "id": "oNwtSc_eiB71"
      }
    },
    {
      "cell_type": "code",
      "source": [
        "items = [0, None, 0.0, True, 0, 7] # True y 7 se evalúan como True\n",
        "\n",
        "found = False # flag\n",
        "for item in items:\n",
        "    print('scanning item', item)\n",
        "    if item:\n",
        "        found = True # actualizamos la flag\n",
        "        break\n",
        "\n",
        "if found: # revisamos la flag\n",
        "    print('At least one item evaluates to True')\n",
        "else:\n",
        "    print('All items evaluate to False')"
      ],
      "metadata": {
        "colab": {
          "base_uri": "https://localhost:8080/"
        },
        "id": "ZHi4c3Z2jDsU",
        "outputId": "32131c44-ea1c-402c-e32f-d7049da17512"
      },
      "execution_count": null,
      "outputs": [
        {
          "output_type": "stream",
          "name": "stdout",
          "text": [
            "scanning item 0\n",
            "scanning item None\n",
            "scanning item 0.0\n",
            "scanning item True\n",
            "At least one item evaluates to True\n"
          ]
        }
      ]
    },
    {
      "cell_type": "markdown",
      "source": [
        "Creamos una variable flag antes de revisar los objetos. Si se encuentra el objeto que necesitas, la variable flag se actualiza porque se cumple y el ciclo para. Después de la iteración, revisamos la variable flag y tomamos la acción correspondiente."
      ],
      "metadata": {
        "id": "3GgFmXJHjt7N"
      }
    }
  ]
}
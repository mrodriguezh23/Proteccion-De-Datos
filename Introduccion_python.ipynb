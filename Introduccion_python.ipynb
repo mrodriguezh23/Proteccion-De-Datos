{
  "nbformat": 4,
  "nbformat_minor": 0,
  "metadata": {
    "colab": {
      "provenance": [],
      "authorship_tag": "ABX9TyPjVozG3+Qbi9bFAUpjIZl6",
      "include_colab_link": true
    },
    "kernelspec": {
      "name": "python3",
      "display_name": "Python 3"
    },
    "language_info": {
      "name": "python"
    }
  },
  "cells": [
    {
      "cell_type": "markdown",
      "metadata": {
        "id": "view-in-github",
        "colab_type": "text"
      },
      "source": [
        "<a href=\"https://colab.research.google.com/github/mrodriguezh23/Proteccion-De-Datos/blob/main/Introduccion_python.ipynb\" target=\"_parent\"><img src=\"https://colab.research.google.com/assets/colab-badge.svg\" alt=\"Open In Colab\"/></a>"
      ]
    },
    {
      "cell_type": "markdown",
      "source": [
        "Miriam Rodríguez Hernández\n",
        "\n",
        "Protección de Datos\n",
        "\n",
        "Introducción a Python"
      ],
      "metadata": {
        "id": "_hcfXiAIGMuw"
      }
    },
    {
      "cell_type": "markdown",
      "source": [
        "# **SCOPES**\n",
        "\"A scope is a textual region of a Python program, where a namespace is directly\n",
        "accessible.\"\n",
        "\n",
        "\n",
        "*   The local scope, which is the innermost one and contains the local names.\n",
        "*   The enclosing scope; that is, the scope of any enclosing function. It contains non-local names and also non-global names.\n",
        "*   The global scope contains the global names.\n",
        "*   The built-in scope contains the built-in names"
      ],
      "metadata": {
        "id": "nzFpkAicZXVu"
      }
    },
    {
      "cell_type": "code",
      "source": [
        "# Local, Enclosing and Global\n",
        "def enclosing_func():\n",
        "  m = 13\n",
        "\n",
        "  def local():\n",
        "      # m doesn't belong to the scope defined by the local\n",
        "      # function so Python will keep looking into the next\n",
        "      # enclosing scope. This time m is found in the enclosing\n",
        "      # scope\n",
        "      print(m, 'printing from the local scope')\n",
        "\n",
        "  # calling the function local\n",
        "  local()\n",
        "\n",
        "m = 5\n",
        "print(m, 'printing from the global scope')\n",
        "enclosing_func()"
      ],
      "metadata": {
        "colab": {
          "base_uri": "https://localhost:8080/"
        },
        "id": "MqNNH4G3ZzXv",
        "outputId": "7df80305-bc8a-46dc-8dfd-56710b3551df"
      },
      "execution_count": 1,
      "outputs": [
        {
          "output_type": "stream",
          "name": "stdout",
          "text": [
            "5 printing from the global scope\n",
            "13 printing from the local scope\n"
          ]
        }
      ]
    },
    {
      "cell_type": "markdown",
      "source": [
        "# OBJECTS AND CLASSES\n",
        "\n",
        "Everything in Python is an object: numbers, strings, containers, collections, even functions.\n",
        "\n",
        "You can think of them as if they were boxes with at least three features:\n",
        "\n",
        "*   an ID (which is unique)\n",
        "*   a type\n",
        "*   a value\n",
        "\n",
        "How do we create them? Classes\n",
        "\n",
        "Let's see an example. We will write a class that defines a bike and create two bikes, one red and one blue."
      ],
      "metadata": {
        "id": "9wBmjGG7bDMI"
      }
    },
    {
      "cell_type": "code",
      "source": [
        "# let's define the class Bike\n",
        "class Bike:\n",
        "\n",
        "  def __init__(self, colour, frame_material):\n",
        "      self.colour = colour\n",
        "      self.frame_material = frame_material\n",
        "\n",
        "  def brake(self):\n",
        "      print(\"Braking!\")\n",
        "\n",
        "# let's create a couple of instances\n",
        "red_bike = Bike('Red', 'Carbon fiber')\n",
        "blue_bike = Bike('Blue', 'Steel')\n",
        "\n",
        "# let's inspect the objects we have, instances of the Bike class.\n",
        "print(red_bike.colour) # prints: Red\n",
        "print(red_bike.frame_material) # prints: Carbon fiber\n",
        "print(blue_bike.colour) # prints: Blue\n",
        "print(blue_bike.frame_material) # prints: Steel\n",
        "\n",
        "# let's brake!\n",
        "red_bike.brake() # prints: Braking!\n"
      ],
      "metadata": {
        "colab": {
          "base_uri": "https://localhost:8080/"
        },
        "id": "YwPj7Y5mcgJd",
        "outputId": "961ad14f-ef62-4549-dba5-2e09dce8f5e1"
      },
      "execution_count": 2,
      "outputs": [
        {
          "output_type": "stream",
          "name": "stdout",
          "text": [
            "Red\n",
            "Carbon fiber\n",
            "Blue\n",
            "Steel\n",
            "Braking!\n"
          ]
        }
      ]
    },
    {
      "cell_type": "markdown",
      "source": [
        "First, the definition of a class happens with the class statement. Whatever code comes after the class statement is called the body of the class.\n",
        "\n",
        "You can see that the class body hosts the definition of two methods. A method is basically (and simplistically) a function that belongs to a class.\n",
        "\n",
        "The first method, __init__, is an initializer. It uses some Python magic to set up the objects with the values we pass when we create it.\n",
        "\n",
        "So, two bikes were created: one has a red color and carbon fiber frame, and the\n",
        "other one has a blue color and a steel frame. We pass those values upon creation;  We also call the brake method of red_bike."
      ],
      "metadata": {
        "id": "jkhDv3Ikdq-6"
      }
    },
    {
      "cell_type": "markdown",
      "source": [
        "# NUMBERS\n",
        "inmutable objects: the value cannot change\n",
        "## Integers\n",
        "Integer numbers can be positive, negative, or 0 (zero). They support all the basic mathematical operations, as shown in the following example:"
      ],
      "metadata": {
        "id": "46KO_gnqgzre"
      }
    },
    {
      "cell_type": "code",
      "source": [
        "a = 14\n",
        "b = 3\n",
        "\n",
        "print(\"suma\", a + b) # addition\n",
        "\n",
        "print(\"resta\", a - b) # subtraction\n",
        "\n",
        "print(\"multiplicacion\", a * b) # multiplication\n",
        "\n",
        "print(\"division real\", a / b) # true division\n",
        "\n",
        "print(\"division entera\", a // b) # integer division\n",
        "\n",
        "print(\"residuo de la division\", a % b) # modulo operation (reminder of division)\n",
        "\n",
        "print(\"potencia\", a ** b) # power operation\n",
        "\n",
        "print(\"potencia\", pow(a, b))\n",
        "\n",
        "print(\"pow(123, 4, 100)\n",
        "41 # notice: 228886641 % 100 == 41"
      ],
      "metadata": {
        "colab": {
          "base_uri": "https://localhost:8080/"
        },
        "id": "LzwiV0G5kdIy",
        "outputId": "9a49e421-f948-4664-ee78-4cdca948197d"
      },
      "execution_count": 4,
      "outputs": [
        {
          "output_type": "stream",
          "name": "stdout",
          "text": [
            "suma 17\n",
            "resta 11\n",
            "multiplicacion 42\n",
            "division real 4.666666666666667\n",
            "division entera 4\n",
            "residuo de la division 2\n",
            "potencia 2744\n"
          ]
        }
      ]
    },
    {
      "cell_type": "markdown",
      "source": [
        "## Booleans\n",
        "Booleans are a subclass of integers, so True and False behave respectively like 1 and 0"
      ],
      "metadata": {
        "id": "YL4ktKvio6AD"
      }
    },
    {
      "cell_type": "code",
      "source": [
        "print(\"True\", int(True)) # True behaves like 1\n",
        "\n",
        "print(\"False\", int(False)) # False behaves like 0\n",
        "\n",
        "print(\"1\", bool(1)) # 1 evaluates to True in a Boolean contex\n",
        "\n",
        "print(\"-42\", bool(-42)) # and so does every non-zero number\n",
        "\n",
        "print(\"0\", bool(0)) # 0 evaluates to False\n",
        "\n",
        "\n",
        "# quick peek at the operators (and, or, not)\n",
        "\n",
        "print(\"not True\", not True)\n",
        "\n",
        "print(\"not False\", not False)\n",
        "\n",
        "print(\"True and True\", True and True)\n",
        "\n",
        "print(\"False or True\", False or True)\n",
        "\n",
        "print(\"1 + True\", 1 + True)\n",
        "\n",
        "print(\"False + 42\", False + 42)\n",
        "\n",
        "print(\"7 - True\", 7 - True)"
      ],
      "metadata": {
        "colab": {
          "base_uri": "https://localhost:8080/"
        },
        "id": "L5vn7mXoqEBf",
        "outputId": "5aabe576-c9ac-4af3-9840-01893b18e81c"
      },
      "execution_count": 10,
      "outputs": [
        {
          "output_type": "stream",
          "name": "stdout",
          "text": [
            "True 1\n",
            "False 0\n",
            "1 True\n",
            "-42 True\n",
            "0 False\n",
            "not True False\n",
            "not False True\n",
            "True and True True\n",
            "False or True True\n",
            "1 + True 2\n",
            "False + 42 42\n",
            "7 - True 6\n"
          ]
        }
      ]
    },
    {
      "cell_type": "markdown",
      "source": [
        "## Real numbers\n",
        "or **floating point numbers**, are represented in Python according to the\n",
        "IEEE 754 double-precision binary floating point format, which is stored in 64 bits of information\n",
        "\n",
        "\n",
        "Double precision numbers suffer from\n",
        "approximation issues even when it comes to simple numbers like 0.1 or 0.3. Why\n",
        "is this important? It can be a big problem if you are handling prices, or financial\n",
        "calculations, or any kind of data that need not to be approximated. Don't worry,\n",
        "Python gives you the Decimal type, which doesn't suffer from these issue."
      ],
      "metadata": {
        "id": "E_LUbhWjsARN"
      }
    },
    {
      "cell_type": "code",
      "source": [
        "pi = 3.1415926536 # how many digits of PI can you remember?\n",
        "radius = 4.5\n",
        "area = pi * (radius ** 2)\n",
        "print(area)\n",
        "\n",
        "#Problemas de aproximacion\n",
        ".3 - 0.1 * 3 # esto deberia ser 0!!!"
      ],
      "metadata": {
        "colab": {
          "base_uri": "https://localhost:8080/"
        },
        "id": "RunaKZvttESb",
        "outputId": "ce7e3210-2d22-4bcc-f062-20ebca7c8167"
      },
      "execution_count": 12,
      "outputs": [
        {
          "output_type": "stream",
          "name": "stdout",
          "text": [
            "63.617251235400005\n"
          ]
        },
        {
          "output_type": "execute_result",
          "data": {
            "text/plain": [
              "-5.551115123125783e-17"
            ]
          },
          "metadata": {},
          "execution_count": 12
        }
      ]
    },
    {
      "cell_type": "markdown",
      "source": [
        "## Complex numbers\n",
        "for scientific coding"
      ],
      "metadata": {
        "id": "BK3AL7souFob"
      }
    },
    {
      "cell_type": "code",
      "source": [
        "c = 3.14 + 2.73j\n",
        "c = complex(3.14, 2.73) # same as above\n",
        "\n",
        "c.real # real part\n",
        "3.14\n",
        "c.imag # imaginary part\n",
        "2.73\n",
        "\n",
        "c.conjugate() # conjugate of A + Bj is A - Bj\n",
        "(3.14-2.73j)\n",
        "\n",
        "c * 2 # multiplication is allowed\n",
        "(6.28+5.46j)\n",
        "\n",
        "c ** 2 # power operation as well\n",
        "(2.4067000000000007+17.1444j)\n",
        "\n",
        "d = 1 + 1j # addition and subtraction as well\n",
        "c - d\n",
        "(2.14+1.73j)"
      ],
      "metadata": {
        "colab": {
          "base_uri": "https://localhost:8080/"
        },
        "id": "y54jNVnSuFw4",
        "outputId": "89c6bb5c-d025-4b73-9688-c79c76ca6208"
      },
      "execution_count": 16,
      "outputs": [
        {
          "output_type": "execute_result",
          "data": {
            "text/plain": [
              "(2.14+1.73j)"
            ]
          },
          "metadata": {},
          "execution_count": 16
        }
      ]
    },
    {
      "cell_type": "markdown",
      "source": [
        "## Fractions\n"
      ],
      "metadata": {
        "id": "iPZ19c4Qudw2"
      }
    },
    {
      "cell_type": "code",
      "source": [
        "from fractions import Fraction\n",
        "\n",
        "print(\"simplified\", Fraction(10, 6)) # mad hatter?\n",
        "\n",
        "print(\"suma de fracciones\", Fraction(1, 3) + Fraction(2, 3)) # 1/3 + 2/3 == 3/3 == 1/1\n",
        "\n",
        "f = Fraction(10, 6)\n",
        "print(\"numerador\", f.numerator)\n",
        "print(\"denominador\", f.denominator)\n",
        "\n",
        "f.as_integer_ratio() #it allows you to use it without needing to worry about what type of number is being worked with"
      ],
      "metadata": {
        "colab": {
          "base_uri": "https://localhost:8080/"
        },
        "id": "hRCY3MZXumCB",
        "outputId": "d24461d8-2f2e-46a5-b7dd-71cb405afe3e"
      },
      "execution_count": 18,
      "outputs": [
        {
          "output_type": "stream",
          "name": "stdout",
          "text": [
            "simplified 5/3\n",
            "suma de fracciones 1\n",
            "numerador 5\n",
            "denominador 3\n"
          ]
        },
        {
          "output_type": "execute_result",
          "data": {
            "text/plain": [
              "(5, 3)"
            ]
          },
          "metadata": {},
          "execution_count": 18
        }
      ]
    },
    {
      "cell_type": "markdown",
      "source": [
        "## Decimals"
      ],
      "metadata": {
        "id": "B-GVz5Vxu48w"
      }
    },
    {
      "cell_type": "code",
      "source": [
        "from decimal import Decimal as D # rename for brevity\n",
        "\n",
        "D(3.14) # pi, from float, so approximation issues"
      ],
      "metadata": {
        "colab": {
          "base_uri": "https://localhost:8080/"
        },
        "id": "gMsOXK53u9X9",
        "outputId": "3be9095c-5c82-42fd-c9b3-cbcebc26da89"
      },
      "execution_count": 25,
      "outputs": [
        {
          "output_type": "execute_result",
          "data": {
            "text/plain": [
              "Decimal('3.140000000000000124344978758017532527446746826171875')"
            ]
          },
          "metadata": {},
          "execution_count": 25
        }
      ]
    },
    {
      "cell_type": "code",
      "source": [
        "D('3.14') # pi, from a string, so no approximation issues"
      ],
      "metadata": {
        "colab": {
          "base_uri": "https://localhost:8080/"
        },
        "id": "-nUH1MufxKW6",
        "outputId": "8fa7338f-5f3b-477d-8ac4-8078055193a1"
      },
      "execution_count": 26,
      "outputs": [
        {
          "output_type": "execute_result",
          "data": {
            "text/plain": [
              "Decimal('3.14')"
            ]
          },
          "metadata": {},
          "execution_count": 26
        }
      ]
    },
    {
      "cell_type": "code",
      "source": [
        "D(0.1) * D(3) - D(0.3) # from float, we still have the issue"
      ],
      "metadata": {
        "colab": {
          "base_uri": "https://localhost:8080/"
        },
        "id": "USPzIs_KxNmj",
        "outputId": "fb41f62f-fb47-4800-b3df-ed11dc61458c"
      },
      "execution_count": 27,
      "outputs": [
        {
          "output_type": "execute_result",
          "data": {
            "text/plain": [
              "Decimal('2.775557561565156540423631668E-17')"
            ]
          },
          "metadata": {},
          "execution_count": 27
        }
      ]
    },
    {
      "cell_type": "code",
      "source": [
        "D('0.1') * D(3) - D('0.3') # from string, all perfect"
      ],
      "metadata": {
        "colab": {
          "base_uri": "https://localhost:8080/"
        },
        "id": "Bokq_c1cxQF6",
        "outputId": "9cb68ddd-b3aa-4f8e-fdad-6564113fcfd5"
      },
      "execution_count": 28,
      "outputs": [
        {
          "output_type": "execute_result",
          "data": {
            "text/plain": [
              "Decimal('0.0')"
            ]
          },
          "metadata": {},
          "execution_count": 28
        }
      ]
    },
    {
      "cell_type": "code",
      "source": [
        "D('1.4').as_integer_ratio() # 7/5 = 1.4 (isn't this cool?!)"
      ],
      "metadata": {
        "colab": {
          "base_uri": "https://localhost:8080/"
        },
        "id": "U1O2nqTUxRfk",
        "outputId": "29ad517e-a07f-40e0-c9f8-236a6cc251d5"
      },
      "execution_count": 29,
      "outputs": [
        {
          "output_type": "execute_result",
          "data": {
            "text/plain": [
              "(7, 5)"
            ]
          },
          "metadata": {},
          "execution_count": 29
        }
      ]
    },
    {
      "cell_type": "markdown",
      "source": [
        "# Secuencias\n",
        "\n",
        "## Secuencias inmutables\n",
        "strings y tuples\n",
        "\n",
        "## Strings and bytes\n",
        "Textual data in Python is handled with str objects.\n",
        "\n",
        "Unicode is an excellent way to handle data. When it comes to storing textual data though, or sending it on the network. The result of an encoding produces a bytes object, whose syntax and behavior is similar to that of strings.\n",
        "\n",
        "String literals are written in Python using single, double, or triple quotes (both single or double). If built with triple quotes, a string can span multiple lines. An example will clarify this:"
      ],
      "metadata": {
        "id": "Q1jy5oDDxo9u"
      }
    },
    {
      "cell_type": "code",
      "source": [
        "# 4 ways to make a string\n",
        "\n",
        "str1 = 'This is a string. We built it with single quotes.'\n",
        "str2 = \"This is also a string, but built with double quotes.\"\n",
        "str3 = '''This is built using triple quotes,\n",
        "... so it can span multiple lines.'''\n",
        "\n",
        "str4 = \"\"\"This too\n",
        "... is a multiline one\n",
        "... built with triple double-quotes.\"\"\"\n",
        "\n",
        "str4 #A\n",
        "'This too\\nis a multiline one\\nbuilt with triple double-quotes.'\n",
        "\n",
        "print(str4) #B\n"
      ],
      "metadata": {
        "colab": {
          "base_uri": "https://localhost:8080/"
        },
        "id": "_mZzgtl01hO0",
        "outputId": "334c45a1-08df-4874-f351-2526f163bc63"
      },
      "execution_count": 30,
      "outputs": [
        {
          "output_type": "stream",
          "name": "stdout",
          "text": [
            "This too\n",
            "... is a multiline one\n",
            "... built with triple double-quotes.\n"
          ]
        }
      ]
    },
    {
      "cell_type": "markdown",
      "source": [
        "Strings, like any sequence, have a length"
      ],
      "metadata": {
        "id": "0hSSFzAD24qN"
      }
    },
    {
      "cell_type": "code",
      "source": [
        " len(str1)"
      ],
      "metadata": {
        "colab": {
          "base_uri": "https://localhost:8080/"
        },
        "id": "VRQwujJC2-y9",
        "outputId": "8b36578d-6f0d-4f7d-8c7b-0ec4d8f5536a"
      },
      "execution_count": 31,
      "outputs": [
        {
          "output_type": "execute_result",
          "data": {
            "text/plain": [
              "49"
            ]
          },
          "metadata": {},
          "execution_count": 31
        }
      ]
    },
    {
      "cell_type": "markdown",
      "source": [
        "prefixes and suffixes\n",
        "of strings"
      ],
      "metadata": {
        "id": "O4tDZv373B-v"
      }
    },
    {
      "cell_type": "code",
      "source": [
        "s = 'Hello There'\n",
        "\n",
        "print(s.removeprefix('Hell'))\n",
        "print(s.removesuffix('here'))\n",
        "print(s.removeprefix('Ooops'))"
      ],
      "metadata": {
        "colab": {
          "base_uri": "https://localhost:8080/"
        },
        "id": "zjM4dBh43FRE",
        "outputId": "fa6dbda2-9224-4206-b490-8a217fab19ab"
      },
      "execution_count": 34,
      "outputs": [
        {
          "output_type": "stream",
          "name": "stdout",
          "text": [
            "o There\n",
            "Hello T\n",
            "Hello There\n"
          ]
        }
      ]
    },
    {
      "cell_type": "markdown",
      "source": [
        "Encoding and decoding strings"
      ],
      "metadata": {
        "id": "gcqpRl-13oQ9"
      }
    }
  ]
}
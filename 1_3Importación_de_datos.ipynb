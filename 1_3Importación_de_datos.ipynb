{
  "nbformat": 4,
  "nbformat_minor": 0,
  "metadata": {
    "colab": {
      "provenance": [],
      "authorship_tag": "ABX9TyPvBBhL4Sj/15QF6oSpoZgo",
      "include_colab_link": true
    },
    "kernelspec": {
      "name": "python3",
      "display_name": "Python 3"
    },
    "language_info": {
      "name": "python"
    }
  },
  "cells": [
    {
      "cell_type": "markdown",
      "metadata": {
        "id": "view-in-github",
        "colab_type": "text"
      },
      "source": [
        "<a href=\"https://colab.research.google.com/github/mrodriguezh23/Proteccion-De-Datos/blob/main/1_3Importaci%C3%B3n_de_datos.ipynb\" target=\"_parent\"><img src=\"https://colab.research.google.com/assets/colab-badge.svg\" alt=\"Open In Colab\"/></a>"
      ]
    },
    {
      "cell_type": "markdown",
      "source": [
        "Miriam Rodríguez Hernández\n",
        "\n",
        "\n",
        "Protección de datos\n",
        "\n",
        "\n",
        "Importación de datos"
      ],
      "metadata": {
        "id": "K87YXjXB8Ozv"
      }
    },
    {
      "cell_type": "markdown",
      "source": [
        "# **Usar context manager para abrir un archivo**"
      ],
      "metadata": {
        "id": "Bxcqh_I8xiGq"
      }
    },
    {
      "cell_type": "code",
      "source": [
        "with open('fear.txt') as fh:\n",
        "    for line in fh:\n",
        "        print(line.strip())"
      ],
      "metadata": {
        "id": "WfBbVRON57S0"
      },
      "execution_count": null,
      "outputs": []
    },
    {
      "cell_type": "markdown",
      "source": [
        "La función opne() es capaz de crear un objeto de archivo cuando se llama por context manager. La diferencia que lo hace ser más seguro es que el fh.close() será llamado automáticamente, incluso cuando haya errores."
      ],
      "metadata": {
        "id": "jMEtiuld56hZ"
      }
    },
    {
      "cell_type": "markdown",
      "source": [
        "# **Leer y escribir en un archivo**"
      ],
      "metadata": {
        "id": "it9XyVNc6cyh"
      }
    },
    {
      "cell_type": "code",
      "source": [
        "with open('fear.txt') as f:\n",
        "    lines = [line.rstrip() for line in f]\n",
        "\n",
        "with open('fear_copy.txt', 'w') as fw:\n",
        "    fw.write('\\n'.join(lines))"
      ],
      "metadata": {
        "id": "r2T2TlyU6f84"
      },
      "execution_count": null,
      "outputs": []
    },
    {
      "cell_type": "markdown",
      "source": [
        "Primero abrimos el archivo de texto fear.txt y recolectamos su contenido en una lista línea por línea con iteración. Usando el método rstrip() para eliminar espacios en blanco. En la segunda parte creamos un nuevo archivo y escribimos todas las líneas del archivo original."
      ],
      "metadata": {
        "id": "Qtrxs_a76isn"
      }
    },
    {
      "cell_type": "markdown",
      "source": [
        "# **Verificar la existencia de archivos y directorios**\n"
      ],
      "metadata": {
        "id": "btcOAOi-7TPo"
      }
    },
    {
      "cell_type": "code",
      "source": [
        "from pathlib import Path\n",
        "\n",
        "p = Path('fear.txt')\n",
        "path = p.parent.absolute()\n",
        "\n",
        "print(p.is_file()) # True\n",
        "print(path) # /Users/fab/srv/lpp3e/ch08/files\n",
        "print(path.is_dir()) # True\n",
        "\n",
        "q = Path('/Users/fab/srv/lpp3e/ch08/files')\n",
        "print(q.is_dir()) # True"
      ],
      "metadata": {
        "id": "o22zYjYj7aq5",
        "colab": {
          "base_uri": "https://localhost:8080/"
        },
        "outputId": "3f3d58f2-950d-4912-bb67-022c8945d2fd"
      },
      "execution_count": null,
      "outputs": [
        {
          "output_type": "stream",
          "name": "stdout",
          "text": [
            "False\n",
            "/content\n",
            "True\n",
            "False\n"
          ]
        }
      ]
    },
    {
      "cell_type": "markdown",
      "source": [
        "Creamos el objeto Path con el nombre del archivo de texto que queremos verificar. Usamos el método parent() para extraer la carpeta en la cual el archivo está guardado, y después llamamos el método absolute() para extraer la información. Se verifica si el 'fear.txt' es un archivo y la carpeta o directorio en la cual está guardada."
      ],
      "metadata": {
        "id": "yuOnhmbr7eYw"
      }
    },
    {
      "cell_type": "markdown",
      "source": [
        "# **Archivos y directorios temporales**\n",
        "\n",
        "Si los tests afectan el disco, se puede utilizar archivos y directorios temporales para verificar si la lógica es correcta y si al final del test no hay residuos."
      ],
      "metadata": {
        "id": "RfnZ7A3I7liA"
      }
    },
    {
      "cell_type": "code",
      "source": [
        "from tempfile import NamedTemporaryFile, TemporaryDirectory\n",
        "\n",
        "with TemporaryDirectory(dir='.') as td:\n",
        "    print('Temp directory:', td)\n",
        "    with NamedTemporaryFile(dir=td) as t:\n",
        "        name = t.name\n",
        "        print(name)"
      ],
      "metadata": {
        "id": "cxE2CI_X821p"
      },
      "execution_count": null,
      "outputs": []
    },
    {
      "cell_type": "markdown",
      "source": [
        "# **Comprimir un archivo**\n",
        "\n",
        "\n",
        "Crear un archivo .zip"
      ],
      "metadata": {
        "id": "SxyfiTA99D8o"
      }
    },
    {
      "cell_type": "code",
      "source": [
        "from zipfile import ZipFile\n",
        "\n",
        "with ZipFile('example.zip', 'w') as zp:\n",
        "    zp.write('content1.txt')\n",
        "    zp.write('content2.txt')\n",
        "    zp.write('subfolder/content3.txt')\n",
        "    zp.write('subfolder/content4.txt')\n",
        "\n",
        "with ZipFile('example.zip') as zp:\n",
        "    zp.extract('content1.txt', 'extract_zip')\n",
        "    zp.extract('subfolder/content3.txt', 'extract_zip')"
      ],
      "metadata": {
        "id": "n6HV7wxS9-mx"
      },
      "execution_count": null,
      "outputs": []
    },
    {
      "cell_type": "markdown",
      "source": [
        "Importamos ZipFile y dentro de un context manager escribimos cuatro archivos. Después abrimos los archivos comprimidos y solo extraemos algunos archivos con el directorio extarct_zip."
      ],
      "metadata": {
        "id": "UDAWe8tl-GOR"
      }
    },
    {
      "cell_type": "markdown",
      "source": [
        "# Comunicación entre sistemas (STREAM) usando memoria\n"
      ],
      "metadata": {
        "id": "3Bqds4t77HSA"
      }
    },
    {
      "cell_type": "code",
      "source": [
        "import io\n",
        "\n",
        "with io.StringIO() as stream:\n",
        "    stream.write('Learning Python Programming.\\n')\n",
        "    print('Become a Python ninja!', file=stream)\n",
        "    contents = stream.getvalue()\n",
        "    print(contents)"
      ],
      "metadata": {
        "colab": {
          "base_uri": "https://localhost:8080/"
        },
        "id": "GT_CDeaG7H43",
        "outputId": "2aff523e-ab31-4d13-e292-dad1f5b9d883"
      },
      "execution_count": null,
      "outputs": [
        {
          "output_type": "stream",
          "name": "stdout",
          "text": [
            "Learning Python Programming.\n",
            "Become a Python ninja!\n",
            "\n"
          ]
        }
      ]
    },
    {
      "cell_type": "markdown",
      "source": [
        "Se importa el módulo io de la librería estándar para usar el método StringIO.write() que es un context manager. Cuando llamamos a getvalue() obtenemos el contenido para después imprimirlo.\n"
      ],
      "metadata": {
        "id": "6mmE169o7I0u"
      }
    },
    {
      "cell_type": "markdown",
      "source": [
        "# Solicitudes HTTP"
      ],
      "metadata": {
        "id": "2vDXSOGU7IGX"
      }
    },
    {
      "cell_type": "code",
      "source": [
        "import requests\n",
        "\n",
        "urls = {\n",
        "    \"get\": \"https://httpbin.org/get?t=learn+python+programming\",\n",
        "    \"headers\": \"https://httpbin.org/headers\",\n",
        "    \"ip\": \"https://httpbin.org/ip\",\n",
        "    \"user-agent\": \"https://httpbin.org/user-agent\",\n",
        "    \"UUID\": \"https://httpbin.org/uuid\",\n",
        "    \"JSON\": \"https://httpbin.org/json\",\n",
        "}\n",
        "\n",
        "def get_content(title, url):\n",
        "    resp = requests.get(url)\n",
        "    print(f\"Response for {title}\")\n",
        "    print(resp.json())\n",
        "\n",
        "for title, url in urls.items():\n",
        "    get_content(title, url)\n",
        "    print(\"-\" * 40)"
      ],
      "metadata": {
        "colab": {
          "base_uri": "https://localhost:8080/"
        },
        "id": "ly7uESsD7IRA",
        "outputId": "0d19003d-38ff-4778-9a55-f107857a9e20"
      },
      "execution_count": null,
      "outputs": [
        {
          "output_type": "stream",
          "name": "stdout",
          "text": [
            "Response for get\n",
            "{'args': {'t': 'learn python programming'}, 'headers': {'Accept': '*/*', 'Accept-Encoding': 'gzip, deflate', 'Host': 'httpbin.org', 'User-Agent': 'python-requests/2.31.0', 'X-Amzn-Trace-Id': 'Root=1-65077204-4ab227e536a3427f2777b0aa'}, 'origin': '34.73.113.197', 'url': 'https://httpbin.org/get?t=learn+python+programming'}\n",
            "----------------------------------------\n",
            "Response for headers\n",
            "{'headers': {'Accept': '*/*', 'Accept-Encoding': 'gzip, deflate', 'Host': 'httpbin.org', 'User-Agent': 'python-requests/2.31.0', 'X-Amzn-Trace-Id': 'Root=1-65077204-0af5a4581aba1c3218f000ea'}}\n",
            "----------------------------------------\n",
            "Response for ip\n",
            "{'origin': '34.73.113.197'}\n",
            "----------------------------------------\n",
            "Response for user-agent\n",
            "{'user-agent': 'python-requests/2.31.0'}\n",
            "----------------------------------------\n",
            "Response for UUID\n",
            "{'uuid': '08ee0434-232b-4c04-992d-694998949a8b'}\n",
            "----------------------------------------\n",
            "Response for JSON\n",
            "{'slideshow': {'author': 'Yours Truly', 'date': 'date of publication', 'slides': [{'title': 'Wake up to WonderWidgets!', 'type': 'all'}, {'items': ['Why <em>WonderWidgets</em> are great', 'Who <em>buys</em> WonderWidgets'], 'title': 'Overview', 'type': 'all'}], 'title': 'Sample Slide Show'}}\n",
            "----------------------------------------\n"
          ]
        }
      ]
    },
    {
      "cell_type": "markdown",
      "source": [
        "Declaramos un diccionario de URLs de donde queremos solicitar. Creamos el método get_content() para encapsular el código. Usamos una solicitud tipo get usando requests.get() e imprimimos el título y la versión descodificada de JSON del cuerpo de la solicitud. Al final usamos un ciclo para iterar cada URL y ver los resultados en la consola."
      ],
      "metadata": {
        "id": "ZHp_MYga9GK_"
      }
    },
    {
      "cell_type": "markdown",
      "source": [
        "# Deserialización de datos con pickle\n"
      ],
      "metadata": {
        "id": "pyI6adH79YTR"
      }
    },
    {
      "cell_type": "code",
      "source": [
        "import pickle\n",
        "from dataclasses import dataclass\n",
        "\n",
        "@dataclass\n",
        "class Person: #creación de clase Person\n",
        "    first_name: str  #Tres atributos de Person\n",
        "    last_name: str\n",
        "    id: int\n",
        "\n",
        "    def greet(self): #este método imprime un mensaje\n",
        "        print(f'Hi, I am {self.first_name} {self.last_name}'\n",
        "              f' and my ID is {self.id}')\n",
        "\n",
        "#creación de objetos\n",
        "people = [\n",
        "    Person('Obi-Wan', 'Kenobi', 123),\n",
        "    Person('Anakin', 'Skywalker', 456),\n",
        "]\n",
        "\n",
        "#guardamos los datos en formato binario\n",
        "with open('data.pickle', 'wb') as stream:\n",
        "    pickle.dump(people, stream)\n",
        "\n",
        "# leemos el archivo\n",
        "with open('data.pickle', 'rb') as stream:\n",
        "    peeps = pickle.load(stream)\n",
        "\n",
        "#llamamos al método para asegurarnos que se convirtieron correctamente\n",
        "for person in peeps:\n",
        "    person.greet()"
      ],
      "metadata": {
        "colab": {
          "base_uri": "https://localhost:8080/"
        },
        "id": "r065DSw7ABQw",
        "outputId": "1c21c5c3-b368-4f1a-e992-f98df33f8b44"
      },
      "execution_count": null,
      "outputs": [
        {
          "output_type": "stream",
          "name": "stdout",
          "text": [
            "Hi, I am Obi-Wan Kenobi and my ID is 123\n",
            "Hi, I am Anakin Skywalker and my ID is 456\n"
          ]
        }
      ]
    },
    {
      "cell_type": "markdown",
      "source": [
        "Se crea la clase Person con tres atributos: first_name, last_name, y id. El método greet() es para imprimir un mensaje con los datos.\n",
        "\n",
        "Se crea la lista con los objetos y los guardamos en un archivo con pickle.dump() donde el contenido se convierte de bytes a objetos. Con pickle.load() leemos el archivo para imprimirlo con el método greet() y verificar que se haya convertido correctamente."
      ],
      "metadata": {
        "id": "n1WVZ7U6ABbP"
      }
    },
    {
      "cell_type": "markdown",
      "source": [
        "# Guardar datos con **shelve**\n",
        "\n",
        "Un shelf es objeto dictioanry-like persistente. Los valores que se guarden en un shelf se puede usar pickle.\n",
        "\n"
      ],
      "metadata": {
        "id": "iQWxXLg8ACUX"
      }
    },
    {
      "cell_type": "code",
      "source": [
        "import shelve\n",
        "\n",
        "class Person:\n",
        "    def __init__(self, name, id):\n",
        "        self.name = name\n",
        "        self.id = id\n",
        "\n",
        "with shelve.open('shelf1.shelve') as db:\n",
        "    db['obi1'] = Person('Obi-Wan', 123)\n",
        "    db['ani'] = Person('Anakin', 456)\n",
        "    db['a_list'] = [2, 3, 5]\n",
        "    db['delete_me'] = 'we will have to delete this one...'\n",
        "    print(list(db.keys())) # 'ani', 'delete_me', 'a_list', 'obi1']\n",
        "\n",
        "    del db['delete_me'] # gone!\n",
        "    print(list(db.keys())) # ['ani', 'a_list', 'obi1']\n",
        "    print('delete_me' in db) # False\n",
        "    print('ani' in db) # True"
      ],
      "metadata": {
        "colab": {
          "base_uri": "https://localhost:8080/"
        },
        "id": "6VqT6-dLAFd_",
        "outputId": "bd78e25f-c57f-4857-d35a-9e51f8fe6f76"
      },
      "execution_count": null,
      "outputs": [
        {
          "output_type": "stream",
          "name": "stdout",
          "text": [
            "['a_list', 'ani', 'delete_me', 'obi1']\n",
            "['a_list', 'ani', 'obi1']\n",
            "False\n",
            "True\n"
          ]
        }
      ]
    },
    {
      "cell_type": "markdown",
      "source": [
        "Creamos la clase Person.\n",
        "\n",
        "Abrimos un archivo shelve como un manager.\n",
        "\n",
        "Se usa syntax de diccionario para guardar cuatro objetos: dos personas, una lista y una cadena de caracteres.\n",
        "\n",
        "Si imrpimimos las keys, obtenemos la lista de las cuatro keys que se usaron.\n",
        "\n",
        "Después de imprimir, se elimina el delete_me.\n",
        "\n",
        "Imprimir las keys otra vez muestra que la eliminación fue un éxito."
      ],
      "metadata": {
        "id": "XqixutL0AFlf"
      }
    },
    {
      "cell_type": "markdown",
      "source": [
        "# Guardar datos en una base de datos\n",
        "\n",
        "En este código se interactúa con una base de datos usando una ORM (SQLAlchemy).\n",
        "\n",
        "Definiremos dos modelos (Person y Adress), cada uno mapeará a una tabla."
      ],
      "metadata": {
        "id": "C0fICB9WAFso"
      }
    },
    {
      "cell_type": "code",
      "source": [
        "#importación de funciones\n",
        "from sqlalchemy.ext.declarative import declarative_base\n",
        "from sqlalchemy import (\n",
        " Column, Integer, String, ForeignKey, create_engine)\n",
        "from sqlalchemy.orm import relationship\n",
        "\n",
        "#creación del motor que le dirá a SQLAlchemy sobre el tipo de base de datos\n",
        "#y cómo conectarlo\n",
        "engine = create_engine('sqlite:///:memory:')\n",
        "Base = declarative_base()\n",
        "\n",
        "#definimios Person que mapea a una tabla llamada person\n",
        "class Person(Base):\n",
        "    __tablename__ = 'person'\n",
        "\n",
        "    #atributos de la tabla person\n",
        "    id = Column(Integer, primary_key=True)\n",
        "    name = Column(String)\n",
        "    age = Column(Integer)\n",
        "\n",
        "    #declaramos la relación con el modelo Adress\n",
        "    addresses = relationship(\n",
        "        'Address',\n",
        "        back_populates='person',\n",
        "        order_by='Address.email',\n",
        "        cascade='all, delete-orphan' #afecta cómo se crea y elimina\n",
        "    )\n",
        "\n",
        "    #este método provee la representación string de un objeto\n",
        "    def __repr__(self):\n",
        "        return f'{self.name}(id={self.id})'\n",
        "\n",
        "#declaración del modelo Adress\n",
        "class Address(Base):\n",
        "    __tablename__ = 'address'\n",
        "\n",
        "    #atributos\n",
        "    id = Column(Integer, primary_key=True)\n",
        "    email = Column(String)\n",
        "\n",
        "    #crean la relación entre Person y Adress\n",
        "    person_id = Column(ForeignKey('person.id')) #referencia a la persona a la que pertenece\n",
        "    person = relationship('Person', back_populates='addresses')\n",
        "\n",
        "    #mismo método que se usó en Person\n",
        "    def __str__(self):\n",
        "        return self.email\n",
        "    __repr__ = __str__ #las dos opciones llaman al método\n",
        "\n",
        "#le decimos al motor que cree las tablas en\n",
        "#la base de datos de acuerdo a los modelos\n",
        "Base.metadata.create_all(engine)"
      ],
      "metadata": {
        "id": "3oUikiHhAiR5"
      },
      "execution_count": null,
      "outputs": []
    },
    {
      "cell_type": "markdown",
      "source": [],
      "metadata": {
        "id": "OM-Bkn5JAhgJ"
      }
    }
  ]
}